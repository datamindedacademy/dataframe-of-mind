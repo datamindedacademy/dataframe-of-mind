{
 "cells": [
  {
   "cell_type": "markdown",
   "metadata": {},
   "source": [
    "# Exercise 1 - operational vs analytical"
   ]
  },
  {
   "cell_type": "code",
   "execution_count": null,
   "metadata": {},
   "outputs": [],
   "source": [
    "from faker.providers import BaseProvider\n",
    "from faker import Faker\n",
    "from dataclasses import dataclass\n",
    "from datetime import datetime\n",
    "\n",
    "fake = Faker()\n",
    "fake.seed_instance(0)\n",
    "name_pool = [fake.name() for _ in range(5)]\n",
    "\n",
    "\n",
    "@dataclass\n",
    "class Transaction:\n",
    "    id: int\n",
    "    name: str\n",
    "    datetime: datetime\n",
    "    amount: float\n",
    "\n",
    "\n",
    "class TransactionProvider(BaseProvider):\n",
    "    __provider__ = \"transaction\"\n",
    "\n",
    "    def transaction(self) -> Transaction:\n",
    "        return Transaction(\n",
    "            fake.unique.uuid4(),\n",
    "            fake.random_element(elements=name_pool),\n",
    "            fake.date_time_this_century(),\n",
    "            fake.pyfloat(min_value=-120, max_value=100),\n",
    "        )\n",
    "\n",
    "\n",
    "fake.add_provider(TransactionProvider)\n",
    "N = int(500)\n",
    "rowbased = [fake.transaction() for _ in range(N)]"
   ]
  },
  {
   "cell_type": "code",
   "execution_count": null,
   "metadata": {},
   "outputs": [],
   "source": [
    "rowbased"
   ]
  },
  {
   "cell_type": "code",
   "execution_count": null,
   "metadata": {},
   "outputs": [],
   "source": [
    "columnar = {\n",
    "    \"id\": [t.id for t in rowbased],\n",
    "    \"name\": [t.name for t in rowbased],\n",
    "    \"datetime\": [t.datetime for t in rowbased],\n",
    "    \"amount\": [t.amount for t in rowbased],\n",
    "    }"
   ]
  },
  {
   "cell_type": "markdown",
   "metadata": {},
   "source": [
    "Calculate the maximal transaction amount in the row-based approach."
   ]
  },
  {
   "cell_type": "code",
   "execution_count": null,
   "metadata": {},
   "outputs": [],
   "source": [
    "%%timeit\n",
    "\n",
    "max(...)"
   ]
  },
  {
   "cell_type": "markdown",
   "metadata": {},
   "source": [
    "Calculate the sum of all transactions by Jorge Sullivan in the row-based approach."
   ]
  },
  {
   "cell_type": "code",
   "execution_count": null,
   "metadata": {},
   "outputs": [],
   "source": []
  },
  {
   "cell_type": "code",
   "execution_count": null,
   "metadata": {},
   "outputs": [],
   "source": [
    "%%timeit\n",
    "\n",
    "sum(...)"
   ]
  },
  {
   "cell_type": "markdown",
   "metadata": {},
   "source": [
    "Calculate the maximum transaction amount in the columnar approach"
   ]
  },
  {
   "cell_type": "code",
   "execution_count": null,
   "metadata": {},
   "outputs": [],
   "source": [
    "%%timeit\n",
    "\n",
    "max(...)"
   ]
  },
  {
   "cell_type": "markdown",
   "metadata": {},
   "source": [
    "Calculate the sum of all transactions by Jorge Sullivan in the columnar approach."
   ]
  },
  {
   "cell_type": "code",
   "execution_count": null,
   "metadata": {},
   "outputs": [],
   "source": [
    "%%timeit\n",
    "\n",
    "sum(...)"
   ]
  },
  {
   "cell_type": "markdown",
   "metadata": {},
   "source": [
    "Retrieve all information for the transaction with ID `989bb030-86c4-4b06-86a8-e22fd57caf0d`, both in the rowbased and in the columnar approach."
   ]
  },
  {
   "cell_type": "code",
   "execution_count": null,
   "metadata": {},
   "outputs": [],
   "source": [
    "%%timeit\n",
    "..."
   ]
  },
  {
   "cell_type": "code",
   "execution_count": null,
   "metadata": {},
   "outputs": [],
   "source": [
    "%%timeit\n",
    "..."
   ]
  }
 ],
 "metadata": {
  "kernelspec": {
   "display_name": ".venv",
   "language": "python",
   "name": "python3"
  },
  "language_info": {
   "codemirror_mode": {
    "name": "ipython",
    "version": 3
   },
   "file_extension": ".py",
   "mimetype": "text/x-python",
   "name": "python",
   "nbconvert_exporter": "python",
   "pygments_lexer": "ipython3",
   "version": "3.12.1"
  }
 },
 "nbformat": 4,
 "nbformat_minor": 2
}
